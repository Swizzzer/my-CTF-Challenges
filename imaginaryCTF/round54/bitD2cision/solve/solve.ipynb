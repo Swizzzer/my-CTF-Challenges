{
 "cells": [
  {
   "cell_type": "code",
   "execution_count": 1,
   "metadata": {},
   "outputs": [
    {
     "name": "stdout",
     "output_type": "stream",
     "text": [
      "b'ictf{chEck_t0rsion_aft3r_pa1ring_3f1d7aec}'\n"
     ]
    }
   ],
   "source": [
    "from Crypto.Util.number import *\n",
    "import ast\n",
    "with open(\"output.txt\") as f:\n",
    "    n = ast.literal_eval(f.readline())\n",
    "    output = ast.literal_eval(f.readline())\n",
    "p = 0x1a0111ea397fe69a4b1ba7b6434bacd764774b84f38512bf6730d2a0f6b0f6241eabfffeb153ffffb9feffffffffaaab\n",
    "res = \"\"\n",
    "for out in output:\n",
    "    if pow(out, 52437899, p) == 1:\n",
    "        res += \"1\"\n",
    "    else:\n",
    "        res += \"0\"\n",
    "print(long_to_bytes(int(res, 2)))\n"
   ]
  }
 ],
 "metadata": {
  "kernelspec": {
   "display_name": "Sage Python",
   "language": "python",
   "name": "sage-python"
  },
  "language_info": {
   "codemirror_mode": {
    "name": "ipython",
    "version": 3
   },
   "file_extension": ".py",
   "mimetype": "text/x-python",
   "name": "python",
   "nbconvert_exporter": "python",
   "pygments_lexer": "ipython3",
   "version": "3.12.5"
  }
 },
 "nbformat": 4,
 "nbformat_minor": 2
}
