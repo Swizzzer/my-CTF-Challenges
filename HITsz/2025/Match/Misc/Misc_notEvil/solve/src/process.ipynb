{
 "cells": [
  {
   "cell_type": "code",
   "execution_count": 1,
   "id": "24e75207",
   "metadata": {},
   "outputs": [],
   "source": [
    "with open(\"logs.txt\", \"r\") as f:\n",
    "    lines = f.readlines()\n",
    "    lines = [line.strip() for line in lines]\n",
    "    lines = [line.split(\"\t\") for line in lines]"
   ]
  },
  {
   "cell_type": "code",
   "execution_count": 2,
   "id": "7c0cf47d",
   "metadata": {},
   "outputs": [],
   "source": [
    "useful_lines = []\n",
    "for line in lines:\n",
    "    if \"powershell.exe\" in line[1]:\n",
    "        useful_lines.append(line)\n"
   ]
  },
  {
   "cell_type": "code",
   "execution_count": 6,
   "id": "c7c9cb61",
   "metadata": {},
   "outputs": [],
   "source": [
    "with open(\"useful_logs.txt\", \"w\") as f:\n",
    "    for useful_line in useful_lines:\n",
    "        f.write(\" \".join(useful_line) + \"\\n\")"
   ]
  }
 ],
 "metadata": {
  "kernelspec": {
   "display_name": "CTF",
   "language": "python",
   "name": "python3"
  },
  "language_info": {
   "codemirror_mode": {
    "name": "ipython",
    "version": 3
   },
   "file_extension": ".py",
   "mimetype": "text/x-python",
   "name": "python",
   "nbconvert_exporter": "python",
   "pygments_lexer": "ipython3",
   "version": "3.13.2"
  }
 },
 "nbformat": 4,
 "nbformat_minor": 5
}
