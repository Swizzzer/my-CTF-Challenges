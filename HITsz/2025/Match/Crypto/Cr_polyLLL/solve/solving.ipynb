{
 "cells": [
  {
   "cell_type": "markdown",
   "id": "ca150592",
   "metadata": {},
   "source": [
    "> copied from [tl2cents](https://github.com/tl2cents/CTF-Writeups/blob/master/2025/ACTF/AAALLL/exp2.py)"
   ]
  },
  {
   "cell_type": "code",
   "execution_count": 1,
   "id": "b404dca4",
   "metadata": {},
   "outputs": [
    {
     "name": "stdout",
     "output_type": "stream",
     "text": [
      "ker: len(ker) = 256\n",
      "Starts to do LLL reduction with dimensions (512, 512)\n",
      "LLL done😊\n"
     ]
    }
   ],
   "source": [
    "from sage.all import block_matrix, GF, ZZ, vector, matrix, save, load\n",
    "from subprocess import check_output\n",
    "from re import findall\n",
    "import os\n",
    "with open(\"output.txt\", \"r\") as f:\n",
    "    exec(f.read())\n",
    "n = 512\n",
    "t = n//2\n",
    "\n",
    "def flatter(M):\n",
    "    # compile https://github.com/keeganryan/flatter and put it in $PATH\n",
    "    z = \"[[\" + \"]\\n[\".join(\" \".join(map(str, row)) for row in M) + \"]]\"\n",
    "    env = os.environ.copy()\n",
    "    env[\"OMP_NUM_THREADS\"] = \"8\"  # macbook上控制线程数量, 避免调度到小核上\n",
    "    ret = check_output([\"flatter\"], input=z.encode(), env=env)\n",
    "    return matrix(M.nrows(), M.ncols(), map(int, findall(rb\"-?\\d+\", ret)))\n",
    "\n",
    "def modulo_reduction(M, p, verbose=False):\n",
    "    \"\"\" Perform LLL reduction on the matrix M with modulo p. \n",
    "    An optimized version, see this blog for more details: https://blog.tanglee.top/2024/07/15/HITCON-CTF-2024-Qual-Crypto-Writeup.html#implementation\n",
    "\n",
    "    Args:\n",
    "        M (matrix): the matrix to reduce\n",
    "        p (int): the modulo\n",
    "        verbose (bool, optional): whether to print the debug information. Defaults to False.\n",
    "\n",
    "    Returns:\n",
    "        matrix: The reduced matrix\n",
    "    \"\"\"\n",
    "    n, m = M.nrows(), M.ncols()\n",
    "    if n < m:\n",
    "        Me = M.change_ring(GF(p)).echelon_form()\n",
    "        delta = Me.ncols() - n\n",
    "        zero_mat = matrix.zero(delta, n)\n",
    "        pI = matrix.identity(delta) * p\n",
    "        L = block_matrix(ZZ, [[Me], [zero_mat.augment(pI)]])\n",
    "        if L.rank() != L.nrows():\n",
    "            L = L.echelon_form(algorithm=\"pari0\", include_zero_rows=False, include_zero_columns=False)\n",
    "        L = L.change_ring(ZZ)\n",
    "    else:\n",
    "        pI = matrix.identity(m) * p\n",
    "        L = block_matrix(ZZ, [[M], [pI]])\n",
    "        \n",
    "    if verbose:\n",
    "        print(f\"Starts to do LLL reduction with dimensions {L.dimensions()}\")\n",
    "    try:\n",
    "        L = flatter(L)\n",
    "        # L = L.LLL()\n",
    "    except Exception as e:\n",
    "        print(f\"Unable to use flatter: {e}\")\n",
    "        exit(1)\n",
    "    if verbose: print(f\"LLL done😊\")\n",
    "    return L\n",
    "\n",
    "assert len(points) == n // 2\n",
    "rows = []\n",
    "for i in range(n):\n",
    "    rows.append([r**i for r in points])\n",
    "\n",
    "# we turn the original problem into an instance of SIS problem\n",
    "M = matrix(GF(p), rows).T\n",
    "# we use LLL to search the short vector in the kernel space of M\n",
    "ker = list(M.right_kernel().basis())\n",
    "sol = M.solve_right(vector(GF(p), results))\n",
    "print(f\"ker: {len(ker) = }\")\n",
    "M0 = matrix(ZZ, ker + [sol])\n",
    "L = modulo_reduction(M0, p, verbose=True)\n",
    "save(L, \"./L2.sobj\")"
   ]
  },
  {
   "cell_type": "code",
   "execution_count": 2,
   "id": "5c3c7b8a",
   "metadata": {},
   "outputs": [
    {
     "name": "stdout",
     "output_type": "stream",
     "text": [
      "-1-1-111-111-11-11-111-1111-11-1-1-1-111-1-1-1-1-1-1-111-1-1-11-1-11-1-11-1-11-11-11-1-1-11-1-11-1-111-11-11-1-1-1-11111-1-1-111-111111-11-1-11111-111111111-1-1111-1-1-1-1-1111111-11-1-111-11111111-11-1-1-1-11-1-1-11111-1-1-1-11-1-11-1-1-1-11-1-1-111-1-1-11-1-1-11-1-1-11-1-1-1-1-1-11-1111-1-1-1-1-1111-11-1-11-1-111-1-1-1-11-1-11-1-1-1-1-111-1-1-1-1-1-111-111-1-1-1111-1-1-11-1-1111-1-1-1-1-1111-111-11-11111-11-111-1-1-111111-1-1-11-11-11-1-1111-1-1-11-111-111111-11-11111-11-1-1111-1-11-11-1-1111-1-111-1-1111-11-111-1-111111-1-11-111111-111-1-1-1-1-11-1-1-111-11-11-111-1-1-1-111-1-1-111-1-11-1-1-1111-1-111-11-11-11-1-1-1-11-11-11-11-11-111111-11-1-1-1-1-1-11111-1-11-11-11111-11-11-111-1-1111-111-11-1-111-1-11-1-1-1-11-11-11-1-11111-1-1-1-111-1-1-1-111-1-1111-11-1-11-1\n"
     ]
    }
   ],
   "source": [
    "L = load(\"./L2.sobj\")\n",
    "for row in L:\n",
    "    if all(num in [-1, 1] for num in row):\n",
    "        print(\"\".join(str(-c) for c in list(row)[::-1]))\n",
    "        continue"
   ]
  },
  {
   "cell_type": "code",
   "execution_count": 3,
   "id": "67ac88d6",
   "metadata": {},
   "outputs": [
    {
     "name": "stdout",
     "output_type": "stream",
     "text": [
      "111-1-11-1-11-11-11-1-11-1-1-11-11111-1-11111111-1-1111-111-111-111-11-11-1111-111-111-1-11-11-11111-1-1-1-1111-1-11-1-1-1-1-11-111-1-1-1-11-1-1-1-1-1-1-1-111-1-1-111111-1-1-1-1-1-11-111-1-11-1-1-1-1-1-1-11-11111-1111-1-1-1-11111-111-11111-1111-1-1111-1111-1111-1111111-11-1-1-111111-1-1-11-111-111-1-11111-111-111111-1-1111111-1-11-1-1111-1-1-1111-111-1-1-111111-1-1-11-1-11-11-1-1-1-11-11-1-1111-1-1-1-1-1111-11-11-111-1-1-1111-11-1-11-1-1-1-1-11-11-1-1-1-11-111-1-1-111-11-111-1-1-111-1-111-1-1-11-11-1-111-1-1-1-1-111-11-1-1-1-1-11-1-111111-1111-1-11-11-11-1-11111-1-1111-1-111-1111-1-1-111-1-11-11-11-11111-11-11-11-11-11-1-1-1-1-11-1111111-1-1-1-111-11-11-1-1-1-11-11-11-1-111-1-1-11-1-11-111-1-111-11111-11-11-111-1-1-1-11111-1-11111-1-111-1-1-11-111-11\n"
     ]
    }
   ],
   "source": [
    "for row in L:\n",
    "    if all(num in [-1, 1] for num in row):\n",
    "        print(\"\".join(str(c) for c in list(row)[::-1]))\n",
    "        continue"
   ]
  },
  {
   "cell_type": "code",
   "execution_count": null,
   "id": "575afc2e",
   "metadata": {},
   "outputs": [],
   "source": []
  }
 ],
 "metadata": {
  "kernelspec": {
   "display_name": "Python 3",
   "language": "python",
   "name": "python3"
  },
  "language_info": {
   "codemirror_mode": {
    "name": "ipython",
    "version": 3
   },
   "file_extension": ".py",
   "mimetype": "text/x-python",
   "name": "python",
   "nbconvert_exporter": "python",
   "pygments_lexer": "ipython3",
   "version": "3.13.3"
  }
 },
 "nbformat": 4,
 "nbformat_minor": 5
}
